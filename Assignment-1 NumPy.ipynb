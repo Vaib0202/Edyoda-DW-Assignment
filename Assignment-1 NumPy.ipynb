{
 "cells": [
  {
   "cell_type": "markdown",
   "id": "e1811030",
   "metadata": {},
   "source": [
    "## 1. Create a null vector of size 10 but the fifth value which is 1."
   ]
  },
  {
   "cell_type": "code",
   "execution_count": 1,
   "id": "6a0af6d7",
   "metadata": {},
   "outputs": [],
   "source": [
    "import numpy as np"
   ]
  },
  {
   "cell_type": "code",
   "execution_count": 14,
   "id": "b0766cb7",
   "metadata": {},
   "outputs": [
    {
     "name": "stdout",
     "output_type": "stream",
     "text": [
      "Null Vector of size 10 but the 5th value is 1 :\n",
      " [0. 0. 0. 0. 1. 0. 0. 0. 0. 0.]\n"
     ]
    }
   ],
   "source": [
    "x=np.zeros(10)\n",
    "x[4]=1\n",
    "print(\"Null Vector of size 10 but the 5th value is 1 :\\n\", x)"
   ]
  },
  {
   "cell_type": "markdown",
   "id": "42e07bb5",
   "metadata": {},
   "source": [
    "## 2. Create a vector with values ranging from 10 to 49."
   ]
  },
  {
   "cell_type": "code",
   "execution_count": 12,
   "id": "eba3dc41",
   "metadata": {},
   "outputs": [
    {
     "name": "stdout",
     "output_type": "stream",
     "text": [
      "Vector with values ranging from 10 to 49 :\n",
      " [10 11 12 13 14 15 16 17 18 19 20 21 22 23 24 25 26 27 28 29 30 31 32 33\n",
      " 34 35 36 37 38 39 40 41 42 43 44 45 46 47 48]\n"
     ]
    }
   ],
   "source": [
    "v = np.arange(10,49)\n",
    "print(\"Vector with values ranging from 10 to 49 :\\n\", v)"
   ]
  },
  {
   "cell_type": "markdown",
   "id": "a32cb23a",
   "metadata": {},
   "source": [
    "## 3. Create a 3x3 matrix with values ranging from 0 to 8"
   ]
  },
  {
   "cell_type": "code",
   "execution_count": 21,
   "id": "3778e473",
   "metadata": {},
   "outputs": [
    {
     "name": "stdout",
     "output_type": "stream",
     "text": [
      "[[0 1 2]\n",
      " [3 4 5]\n",
      " [6 7 8]]\n"
     ]
    }
   ],
   "source": [
    "z = np.arange(9).reshape(3,3)\n",
    "print(z)"
   ]
  },
  {
   "cell_type": "markdown",
   "id": "ff66d4a1",
   "metadata": {},
   "source": [
    "## 4. Find indices of non-zero elements from [1,2,0,0,4,0]"
   ]
  },
  {
   "cell_type": "code",
   "execution_count": 40,
   "id": "5a01a6d5",
   "metadata": {},
   "outputs": [
    {
     "data": {
      "text/plain": [
       "(array([0, 1, 4], dtype=int64),)"
      ]
     },
     "execution_count": 40,
     "metadata": {},
     "output_type": "execute_result"
    }
   ],
   "source": [
    "a = np.array([1,2,0,0,4,0])\n",
    "np.where(a > 0)"
   ]
  },
  {
   "cell_type": "markdown",
   "id": "e9aa0ba6",
   "metadata": {},
   "source": [
    "## 5. Create a 10x10 array with random values and find the minimum and maximum values."
   ]
  },
  {
   "cell_type": "code",
   "execution_count": 41,
   "id": "3f606bd5",
   "metadata": {},
   "outputs": [
    {
     "name": "stdout",
     "output_type": "stream",
     "text": [
      "Original Array : \n",
      " [[0.63937349 0.13568637 0.44200625 0.08034965 0.87234392 0.59422499\n",
      "  0.28850279 0.17931152 0.72126932 0.38472285]\n",
      " [0.7180244  0.55583792 0.77306767 0.945503   0.12850908 0.5180691\n",
      "  0.89135193 0.55099907 0.82140863 0.84735815]\n",
      " [0.86661548 0.8984308  0.44976206 0.82721924 0.52759718 0.51567002\n",
      "  0.5219049  0.18541147 0.97504336 0.22285176]\n",
      " [0.31241576 0.43704345 0.45689188 0.60985294 0.34386944 0.2092969\n",
      "  0.66724589 0.60731481 0.70133479 0.10266124]\n",
      " [0.38368887 0.8581452  0.67771494 0.13828211 0.00218956 0.79921105\n",
      "  0.50656828 0.50394919 0.56942387 0.14522098]\n",
      " [0.96369472 0.95839065 0.47898583 0.09248874 0.55408201 0.87542485\n",
      "  0.95213991 0.26823591 0.52468086 0.53385919]\n",
      " [0.63573258 0.99163544 0.78377258 0.61742232 0.51300746 0.60597753\n",
      "  0.47103827 0.69218488 0.92243315 0.66742779]\n",
      " [0.05668405 0.49982229 0.50509131 0.73293436 0.3376293  0.69038803\n",
      "  0.51196298 0.22753498 0.54376496 0.68182897]\n",
      " [0.0842474  0.66841757 0.50027214 0.63245921 0.13255146 0.02462567\n",
      "  0.21748739 0.71275828 0.94706929 0.47204111]\n",
      " [0.4003036  0.22814226 0.21670625 0.05139886 0.90717701 0.03489799\n",
      "  0.50229064 0.51009753 0.90172725 0.12739281]]\n",
      "Minimum and Maximum Values : \n",
      " 0.002189557089138594 0.9916354413478604\n"
     ]
    }
   ],
   "source": [
    "b = np.random.random((10,10))\n",
    "print(\"Original Array : \\n\", b)\n",
    "bmin, bmax = b.min(), b.max()\n",
    "print(\"Minimum and Maximum Values : \\n\", bmin, bmax)"
   ]
  },
  {
   "cell_type": "markdown",
   "id": "1d614c05",
   "metadata": {},
   "source": [
    "## 6. Create a random vector of size 30 and find the mean value."
   ]
  },
  {
   "cell_type": "code",
   "execution_count": 49,
   "id": "6df12300",
   "metadata": {},
   "outputs": [
    {
     "name": "stdout",
     "output_type": "stream",
     "text": [
      "Original array : \n",
      " [0.55234012 0.1235457  0.39339784 0.03373868 0.34070223 0.4196073\n",
      " 0.27807349 0.49701214 0.8746888  0.43082348 0.94575887 0.09319825\n",
      " 0.17595757 0.68859735 0.10491248 0.65371142 0.92022181 0.53598293\n",
      " 0.16140441 0.84503061 0.22110878 0.25789448 0.6258709  0.5392296\n",
      " 0.71066959 0.99112872 0.27443242 0.14998225 0.46289772 0.7614557 ]\n",
      "Mean Value : \n",
      " 0.46877918886117487\n"
     ]
    }
   ],
   "source": [
    "c = np.random.random(30)\n",
    "print(\"Original array : \\n\", c)\n",
    "print(\"Mean Value : \\n\", np.mean(c))"
   ]
  }
 ],
 "metadata": {
  "kernelspec": {
   "display_name": "Python 3 (ipykernel)",
   "language": "python",
   "name": "python3"
  },
  "language_info": {
   "codemirror_mode": {
    "name": "ipython",
    "version": 3
   },
   "file_extension": ".py",
   "mimetype": "text/x-python",
   "name": "python",
   "nbconvert_exporter": "python",
   "pygments_lexer": "ipython3",
   "version": "3.9.12"
  }
 },
 "nbformat": 4,
 "nbformat_minor": 5
}
